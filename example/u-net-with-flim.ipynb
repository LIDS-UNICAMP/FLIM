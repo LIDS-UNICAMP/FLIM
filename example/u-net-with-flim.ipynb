{
 "cells": [
  {
   "cell_type": "code",
   "execution_count": 1,
   "metadata": {},
   "outputs": [
    {
     "name": "stderr",
     "output_type": "stream",
     "text": [
      "2021-09-16 09:24:18.822 | WARNING  | torch_snippets.loader:<module>:90 - Skipping cv2 import\n"
     ]
    }
   ],
   "source": [
    "from flim.experiments import utils\n",
    "\n",
    "import numpy as np\n",
    "\n",
    "import torch\n",
    "\n",
    "from torch import nn\n",
    "\n",
    "from torch import optim\n",
    "\n",
    "from torchvision import transforms\n",
    "\n",
    "from torch_snippets import *\n",
    "\n",
    "from sklearn.metrics import jaccard_score\n",
    "\n",
    "from PIL import Image\n",
    "\n",
    "import functools\n",
    "\n",
    "from collections import OrderedDict\n",
    "\n",
    "from flashtorch.activmax import GradientAscent"
   ]
  },
  {
   "cell_type": "code",
   "execution_count": 2,
   "metadata": {},
   "outputs": [],
   "source": [
    "def get_device():\n",
    "    gpu = torch.cuda.is_available()\n",
    "\n",
    "    if not gpu:\n",
    "        device = torch.device('cpu')\n",
    "    else:\n",
    "        device = torch.device(0)\n",
    "\n",
    "    return device"
   ]
  },
  {
   "cell_type": "code",
   "execution_count": 3,
   "metadata": {},
   "outputs": [],
   "source": [
    "# U-Net\n",
    "def rgetattr(obj, attr, *args):\n",
    "    \n",
    "    def _getattr (obj, attr):\n",
    "        return getattr(obj, attr, *args)\n",
    "\n",
    "    return functools.reduce(_getattr, [obj] + attr.split('.'))\n",
    "\n",
    "class IntermediateLayerGetter:\n",
    "    def __init__(self, model, return_layers):\n",
    "        self._model = model\n",
    "        self._return_layers = return_layers\n",
    "\n",
    "    def __call__(self, x):\n",
    "        outputs = OrderedDict()\n",
    "        handles = []\n",
    "\n",
    "        for name, out_name in self._return_layers.items():\n",
    "            layer = rgetattr(self._model, name)\n",
    "\n",
    "            def hook(module, input, output, out_name=out_name):\n",
    "                outputs[out_name] = output\n",
    "\n",
    "            handle = layer.register_forward_hook(hook)\n",
    "\n",
    "            handles.append(handle)\n",
    "        \n",
    "        self._model(x)\n",
    "\n",
    "        for handle in handles:\n",
    "            handle.remove()\n",
    "\n",
    "        return outputs\n",
    "\n",
    "def conv(in_channels, out_channels):\n",
    "    return nn.Sequential(\n",
    "        nn.Conv2d(in_channels, out_channels, kernel_size=3, stride=1, padding=1),\n",
    "        nn.BatchNorm2d(out_channels),\n",
    "        nn.ReLU(inplace=True)\n",
    "    )\n",
    "\n",
    "def up_conv(in_channels, out_channels):\n",
    "    return nn.Sequential(\n",
    "        nn.ConvTranspose2d(in_channels, out_channels, kernel_size=2, stride=2),\n",
    "        nn.ReLU(inplace=True)\n",
    "    )\n",
    "    \n",
    "def _layers_before_downscale(model):\n",
    "    last_layer_name = None\n",
    "    last_out_channel = None\n",
    "    layer_names = []\n",
    "    last_out_channels = []\n",
    "    for name, layer in model.named_modules():\n",
    "        if isinstance(layer, (nn.Sequential)):\n",
    "            continue\n",
    "        if isinstance(layer, nn.Conv2d):\n",
    "            last_out_channel = layer.out_channels\n",
    "        if isinstance(layer, (nn.AvgPool2d, nn.MaxPool2d)):\n",
    "            layer_names.append(last_layer_name)\n",
    "            last_out_channels.append(last_out_channel)\n",
    "        last_layer_name = name\n",
    "\n",
    "    layer_names.append(last_layer_name)\n",
    "    last_out_channels.append(last_out_channel)\n",
    "\n",
    "    return layer_names, last_out_channels\n",
    "\n",
    "class UNet(nn.Module):\n",
    "    def __init__(self, encoder, out_channels=2):\n",
    "        super().__init__()\n",
    "\n",
    "        self.encoder = encoder\n",
    "\n",
    "        encoder_block_names, block_out_channels = _layers_before_downscale(encoder)\n",
    "\n",
    "        layer_names = {layer_name: layer_name for layer_name in encoder_block_names[:-1]}\n",
    "        layer_names[encoder_block_names[-1]] = \"bottleneck\"\n",
    "\n",
    "        self._encoder_blocks = IntermediateLayerGetter(self.encoder, layer_names)\n",
    "\n",
    "        self.decoder = nn.Module()\n",
    "\n",
    "        bottleneck_out_channels = block_out_channels[-1] * 2\n",
    "        self.decoder.add_module(\"conv_bottleneck\", conv(block_out_channels[-1], bottleneck_out_channels))\n",
    "\n",
    "        last_conv_out_channels = bottleneck_out_channels\n",
    "        for i, _out_channels in enumerate(reversed(block_out_channels[:-1])):\n",
    "\n",
    "            self.decoder.add_module(f\"up_conv{i}\", up_conv(last_conv_out_channels, last_conv_out_channels//2))\n",
    "            self.decoder.add_module(f\"conv{i}\", conv(last_conv_out_channels//2 + _out_channels, _out_channels))\n",
    "\n",
    "            last_conv_out_channels = _out_channels\n",
    "        \n",
    "        self.decoder.add_module(\"output_layer\", nn.Conv2d(last_conv_out_channels, out_channels, kernel_size=1))\n",
    "\n",
    "    def forward(self, x):\n",
    "        ## NOTE: comment this to train both the encoder and the decoder\n",
    "        self.encoder.eval()\n",
    "        with torch.no_grad():\n",
    "            encoder_outputs = self._encoder_blocks(x)\n",
    "\n",
    "            block_names = reversed(encoder_outputs.keys())\n",
    "\n",
    "            bottleneck = encoder_outputs[next(block_names)]\n",
    "\n",
    "        x = bottleneck\n",
    "\n",
    "        for name, layer in self.decoder.named_children():\n",
    "            if \"up_conv\" in name:\n",
    "                block_output = encoder_outputs[(next(block_names))]\n",
    "                x = layer(x)\n",
    "                x = torch.cat([x, block_output], dim=1)\n",
    "            else:\n",
    "                x = layer(x)\n",
    "\n",
    "        return x"
   ]
  },
  {
   "cell_type": "code",
   "execution_count": 4,
   "metadata": {},
   "outputs": [],
   "source": [
    "# Dataset\n",
    "import os\n",
    "\n",
    "from os import path\n",
    "\n",
    "from torch.utils.data import Dataset\n",
    "\n",
    "class SegmDataset(Dataset):\n",
    "    def __init__(self, root_dir, transform=None, train=True, gts=False):\n",
    "        assert isinstance(root_dir, str) and len(root_dir) > 0,\\\n",
    "            \"Invalid root_dir\"\n",
    "\n",
    "        if train:\n",
    "            self._root_dir = os.path.join(root_dir, 'train')\n",
    "        else:\n",
    "            self._root_dir = os.path.join(root_dir, 'val')\n",
    "\n",
    "        self._is_train = train\n",
    "        self._transform = transform\n",
    "\n",
    "        self._gts = gts or not train\n",
    "\n",
    "        self._image_names = None\n",
    "        self._markers_names = None\n",
    "        self._gt_names = None\n",
    "\n",
    "        self._load_dataset_info()\n",
    "\n",
    "    def __getitem__(self, index):\n",
    "        image_path = os.path.join(self._root_dir, \"images\", f\"{self._image_names[index]}.png\")\n",
    "\n",
    "        if self._gts:\n",
    "            label_path = os.path.join(self._root_dir, \"gts\", f\"{self._gt_names[index]}.png\")\n",
    "        else:\n",
    "            label_path = os.path.join(self._root_dir, \"markers\", f\"{self._markers_names[index]}.txt\")\n",
    "    \n",
    "        image = utils.load_image(image_path)\n",
    "        \n",
    "        label_image = self._load_label_image(label_path)\n",
    "\n",
    "        if self._gts:\n",
    "            label_image[label_image == 255] = 1\n",
    "\n",
    "        if not self._gts:\n",
    "            label_image[label_image == 0] = 3\n",
    "            label_image = label_image - 1\n",
    "\n",
    "        if(self._transform):\n",
    "            image = self._transform(image)\n",
    "        sample = (image, label_image.astype(np.int64))\n",
    "        \n",
    "        return sample \n",
    "\n",
    "    def _load_dataset_info(self):\n",
    "        if path.exists(self._root_dir):\n",
    "            images_path = path.join(self._root_dir, \"images\")\n",
    "            if self._gts:\n",
    "                gts_path = path.join(self._root_dir, \"gts\")\n",
    "            else:\n",
    "                markers_path = path.join(self._root_dir, \"markers\")\n",
    "\n",
    "            if path.exists(images_path):\n",
    "                self._image_names = [int(name.split('.')[0]) for name in os.listdir(images_path)]\n",
    "                self._image_names.sort()\n",
    "\n",
    "                if self._gts:\n",
    "                    self._gt_names = [int(name.split('.')[0]) for name in os.listdir(gts_path)]\n",
    "                    self._gt_names.sort()\n",
    "                else:\n",
    "                    self._markers_names = [int(name.split('.')[0]) for name in os.listdir(markers_path)]\n",
    "                    self._markers_names.sort()\n",
    "\n",
    "            else:\n",
    "                raise ValueError(f\"{images_path} does not exists\")\n",
    "        else:\n",
    "            raise ValueError(f\"{self._root_dir} does not exists, dumb ass\")\n",
    "\n",
    "    def __len__(self):\n",
    "        return len(self._image_names)\n",
    "\n",
    "    def _load_label_image(self, label_path):\n",
    "        if label_path.endswith('.txt'):\n",
    "            with open(label_path, 'r') as f:\n",
    "                lines = f.readlines()\n",
    "            label_infos = [int(info) for info in lines[0].split(\" \")]\n",
    "\n",
    "            #images dimensions are flipped\n",
    "            image_shape = (label_infos[2], label_infos[1])\n",
    "            label_image = np.zeros(image_shape, dtype=np.int)\n",
    "\n",
    "            for line in lines[1:]:\n",
    "                split_line = line.split(\" \")\n",
    "                y, x, label = int(split_line[0]), int(split_line[1]), int(split_line[3])\n",
    "                label_image[x][y] = label\n",
    "            \n",
    "            assert (label_image != 0).sum() == label_infos[0], \"There are zero markers. Be careful!!\"\n",
    "        else:\n",
    "            label_image = np.array(Image.open(label_path))\n",
    "\n",
    "        return label_image\n",
    "        \n",
    "class ToTensor(object):\n",
    "    def __call__(self, sample):\n",
    "        image = np.array(sample)\n",
    "        image = image.transpose((2, 0, 1))\n",
    "        \n",
    "        return torch.from_numpy(image.copy()).float()"
   ]
  },
  {
   "cell_type": "code",
   "execution_count": 5,
   "metadata": {},
   "outputs": [],
   "source": [
    "# metrics\n",
    "def IoU(gt, pred, ignore_label=-1, average='binary'):\n",
    "    mask = gt != ignore_label\n",
    "    iou = jaccard_score(gt[mask].flatten(), pred[mask].flatten(), average=average)\n",
    "    return iou\n",
    "\n",
    "ce = nn.CrossEntropyLoss().to(device)\n",
    "\n",
    "def UnetLoss(preds, targets):\n",
    "    ce_loss = ce(preds, targets)\n",
    "    pred_labels = torch.max(preds, 1)[1]\n",
    "    mask = targets != 2\n",
    "    acc = (pred_labels[mask] == targets[mask]).float().mean()\n",
    "    \n",
    "    iou = IoU(targets.cpu(), pred_labels.cpu()) \n",
    "    return ce_loss, acc, iou\n"
   ]
  },
  {
   "cell_type": "code",
   "execution_count": 6,
   "metadata": {},
   "outputs": [],
   "source": [
    "def train_batch(model, data, optimizer, criterion, device='cpu'):\n",
    "    ims, ce_masks = data[0].to(device), data[1].to(device)\n",
    "    _masks = model(ims)\n",
    "    optimizer.zero_grad()\n",
    "    loss, acc, iou = criterion(_masks, ce_masks)\n",
    "    loss.backward()\n",
    "    optimizer.step()\n",
    "    return loss.item(), acc.item(), iou.item()\n",
    "\n",
    "@torch.no_grad()\n",
    "def validate_batch(model, data, criterion, device='cpu'):\n",
    "    ims, masks = data[0].to(device), data[1].to(device)\n",
    "    _masks = model(ims)\n",
    "    loss, acc, iou = criterion(_masks, masks)\n",
    "    return loss.item(), acc.item(), torch.max(_masks, 1)[1], masks, iou.item()"
   ]
  },
  {
   "cell_type": "code",
   "execution_count": 7,
   "metadata": {},
   "outputs": [],
   "source": [
    "device = get_device()"
   ]
  },
  {
   "cell_type": "markdown",
   "metadata": {},
   "source": [
    "## Segmentation using the FLIM + U-net decoder"
   ]
  },
  {
   "cell_type": "code",
   "execution_count": 8,
   "metadata": {},
   "outputs": [],
   "source": [
    "# encoder architecture\n",
    "arch = utils.load_architecture('arch-unet.json')"
   ]
  },
  {
   "cell_type": "code",
   "execution_count": 9,
   "metadata": {},
   "outputs": [],
   "source": [
    "# images and markers to train the FLIM-Enconder\n",
    "\n",
    "# TODO: pass all images and their markers in the following dir \n",
    "# <images_and_markers>\n",
    "# - 0001.png\n",
    "# - 0001-seeds.txt\n",
    "# ....\n",
    "images, markers = utils.load_images_and_markers('<images_and_markers>')\n",
    "\n",
    "# train FLIM-Encoders\n",
    "encoder = utils.build_model(arch, images, markers, images[0].shape, device=device)"
   ]
  },
  {
   "cell_type": "code",
   "execution_count": 10,
   "metadata": {},
   "outputs": [],
   "source": [
    "# create U-Net with FLIM-Encoder\n",
    "num_classes = 2\n",
    "u_net = UNet(encoder=encoder, out_channels=num_classes)"
   ]
  },
  {
   "cell_type": "code",
   "execution_count": 11,
   "metadata": {},
   "outputs": [
    {
     "name": "stdout",
     "output_type": "stream",
     "text": [
      "----------------------------------------------------------------\n",
      "        Layer (type)               Output Shape         Param #\n",
      "================================================================\n",
      " MarkerBasedNorm2d-1          [-1, 3, 256, 256]               6\n",
      "            Conv2d-2         [-1, 64, 256, 256]           1,728\n",
      "              ReLU-3         [-1, 64, 256, 256]               0\n",
      " MarkerBasedNorm2d-4         [-1, 64, 256, 256]             128\n",
      "            Conv2d-5         [-1, 64, 256, 256]          36,864\n",
      "              ReLU-6         [-1, 64, 256, 256]               0\n",
      "         MaxPool2d-7         [-1, 64, 128, 128]               0\n",
      " MarkerBasedNorm2d-8         [-1, 64, 128, 128]             128\n",
      "            Conv2d-9        [-1, 128, 128, 128]          73,728\n",
      "             ReLU-10        [-1, 128, 128, 128]               0\n",
      "        MaxPool2d-11          [-1, 128, 64, 64]               0\n",
      "MarkerBasedNorm2d-12          [-1, 128, 64, 64]             256\n",
      "           Conv2d-13          [-1, 256, 64, 64]         294,912\n",
      "             ReLU-14          [-1, 256, 64, 64]               0\n",
      "           Conv2d-15          [-1, 512, 64, 64]       1,180,160\n",
      "      BatchNorm2d-16          [-1, 512, 64, 64]           1,024\n",
      "             ReLU-17          [-1, 512, 64, 64]               0\n",
      "  ConvTranspose2d-18        [-1, 256, 128, 128]         524,544\n",
      "             ReLU-19        [-1, 256, 128, 128]               0\n",
      "           Conv2d-20        [-1, 128, 128, 128]         442,496\n",
      "      BatchNorm2d-21        [-1, 128, 128, 128]             256\n",
      "             ReLU-22        [-1, 128, 128, 128]               0\n",
      "  ConvTranspose2d-23         [-1, 64, 256, 256]          32,832\n",
      "             ReLU-24         [-1, 64, 256, 256]               0\n",
      "           Conv2d-25         [-1, 64, 256, 256]          73,792\n",
      "      BatchNorm2d-26         [-1, 64, 256, 256]             128\n",
      "             ReLU-27         [-1, 64, 256, 256]               0\n",
      "           Conv2d-28          [-1, 2, 256, 256]             130\n",
      "================================================================\n",
      "Total params: 2,663,112\n",
      "Trainable params: 2,663,112\n",
      "Non-trainable params: 0\n",
      "----------------------------------------------------------------\n",
      "Input size (MB): 0.75\n",
      "Forward/backward pass size (MB): 554.50\n",
      "Params size (MB): 10.16\n",
      "Estimated Total Size (MB): 565.41\n",
      "----------------------------------------------------------------\n"
     ]
    }
   ],
   "source": [
    "# check model\n",
    "model = u_net.to(device)\n",
    "criterion = UnetLoss\n",
    "\n",
    "# setting only decoder's parameters for training\n",
    "optimizer = optim.Adam(model.decoder.parameters(), lr=1e-3)\n",
    "n_epochs = 20\n",
    "from torchsummary import summary\n",
    "summary(model, (3,256,256))"
   ]
  },
  {
   "cell_type": "code",
   "execution_count": 12,
   "metadata": {},
   "outputs": [],
   "source": [
    "# prepare dataset for training and validation\n",
    "transform = transforms.Compose([ToTensor()])\n",
    "\n",
    "\n",
    "# TODO: pass ALL images under <images_markers_and_gt> as following\n",
    "# <images_markers_and_gt>\n",
    "# ├── train\n",
    "# │   ├── gts\n",
    "# │   ├── images\n",
    "# │   └── markers\n",
    "# └── val\n",
    "#     ├── gts\n",
    "#     └── images\n",
    "\n",
    "trn_ds = SegmDataset('<images_markes_and_gt>', transform=transform, train=True, gts=True)\n",
    "val_ds = SegmDataset('<images_markes_and_gt>', transform=transform, train=False, gts=True)"
   ]
  },
  {
   "cell_type": "code",
   "execution_count": 13,
   "metadata": {},
   "outputs": [],
   "source": [
    "trn_dl = DataLoader(trn_ds, batch_size=10, shuffle=True)\n",
    "val_dl = DataLoader(val_ds, batch_size=1, shuffle=True)"
   ]
  },
  {
   "cell_type": "code",
   "execution_count": 16,
   "metadata": {},
   "outputs": [
    {
     "name": "stdout",
     "output_type": "stream",
     "text": [
      "EPOCH: 1.000\ttrn_loss: 0.190\ttrn_acc: 0.930\tval_loss: 0.244\tval_acc: 0.899\t(24.33s - 462.23s remaining)\n",
      "IoU of validation set 0.6197795682613498\n",
      "EPOCH: 2.000\ttrn_loss: 0.174\ttrn_acc: 0.935\tval_loss: 0.201\tval_acc: 0.923\t(50.26s - 452.32s remaining)\n",
      "IoU of validation set 0.6623348957545823\n",
      "EPOCH: 3.000\ttrn_loss: 0.170\ttrn_acc: 0.936\tval_loss: 0.201\tval_acc: 0.922\t(76.16s - 431.58s remaining)\n",
      "IoU of validation set 0.6632494541242641\n",
      "EPOCH: 4.000\ttrn_loss: 0.160\ttrn_acc: 0.940\tval_loss: 0.199\tval_acc: 0.924\t(102.39s - 409.54s remaining)\n",
      "IoU of validation set 0.6791220375355308\n",
      "EPOCH: 5.000\ttrn_loss: 0.144\ttrn_acc: 0.947\tval_loss: 0.177\tval_acc: 0.933\t(128.27s - 384.80s remaining)\n",
      "IoU of validation set 0.6887894572306673\n",
      "EPOCH: 5.040\tval_loss: 0.298\tval_acc: 0.892\t(149.05s - 442.42s remaining)"
     ]
    },
    {
     "name": "stderr",
     "output_type": "stream",
     "text": [
      "/home/matheusabrantes/miniconda2/envs/flim-unet/lib/python3.8/site-packages/sklearn/metrics/_classification.py:1248: UndefinedMetricWarning: Jaccard is ill-defined and being set to 0.0 due to no true or predicted samples. Use `zero_division` parameter to control this behavior.\n",
      "  _warn_prf(average, modifier, msg_start, len(result))\n"
     ]
    },
    {
     "name": "stdout",
     "output_type": "stream",
     "text": [
      "EPOCH: 6.000\ttrn_loss: 0.137\ttrn_acc: 0.949\tval_loss: 0.193\tval_acc: 0.926\t(154.13s - 359.63s remaining)\n",
      "IoU of validation set 0.6335088619634626\n",
      "EPOCH: 7.000\ttrn_loss: 0.132\ttrn_acc: 0.952\tval_loss: 0.198\tval_acc: 0.928\t(179.96s - 334.21s remaining)\n",
      "IoU of validation set 0.6903308376191465\n",
      "EPOCH: 8.000\ttrn_loss: 0.131\ttrn_acc: 0.952\tval_loss: 0.184\tval_acc: 0.931\t(205.79s - 308.69s remaining)\n",
      "IoU of validation set 0.6953713670613563\n",
      "EPOCH: 9.000\ttrn_loss: 0.119\ttrn_acc: 0.956\tval_loss: 0.181\tval_acc: 0.935\t(231.59s - 283.06s remaining)\n",
      "IoU of validation set 0.6824532390930451\n",
      "EPOCH: 10.000\ttrn_loss: 0.114\ttrn_acc: 0.958\tval_loss: 0.178\tval_acc: 0.934\t(257.44s - 257.44s remaining)\n",
      "IoU of validation set 0.700066978388213\n",
      "EPOCH: 11.000\ttrn_loss: 0.104\ttrn_acc: 0.962\tval_loss: 0.213\tval_acc: 0.930\t(283.16s - 231.68s remaining)\n",
      "IoU of validation set 0.6638684956713109\n",
      "EPOCH: 12.000\ttrn_loss: 0.097\ttrn_acc: 0.965\tval_loss: 0.177\tval_acc: 0.934\t(308.87s - 205.91s remaining)\n",
      "IoU of validation set 0.6871461107772119\n",
      "EPOCH: 13.000\ttrn_loss: 0.092\ttrn_acc: 0.967\tval_loss: 0.239\tval_acc: 0.918\t(334.68s - 180.21s remaining)\n",
      "IoU of validation set 0.6674439507251259\n",
      "EPOCH: 13.900\tval_loss: 0.003\tval_acc: 1.000\t(359.84s - 157.92s remaining)"
     ]
    },
    {
     "name": "stderr",
     "output_type": "stream",
     "text": [
      "/home/matheusabrantes/miniconda2/envs/flim-unet/lib/python3.8/site-packages/sklearn/metrics/_classification.py:1248: UndefinedMetricWarning: Jaccard is ill-defined and being set to 0.0 due to no true or predicted samples. Use `zero_division` parameter to control this behavior.\n",
      "  _warn_prf(average, modifier, msg_start, len(result))\n"
     ]
    },
    {
     "name": "stdout",
     "output_type": "stream",
     "text": [
      "EPOCH: 14.000\ttrn_loss: 0.086\ttrn_acc: 0.969\tval_loss: 0.354\tval_acc: 0.892\t(360.46s - 154.48s remaining)\n",
      "IoU of validation set 0.4318214923558246\n",
      "EPOCH: 15.000\ttrn_loss: 0.094\ttrn_acc: 0.966\tval_loss: 0.200\tval_acc: 0.933\t(386.83s - 128.94s remaining)\n",
      "IoU of validation set 0.6847542597865782\n",
      "EPOCH: 16.000\ttrn_loss: 0.080\ttrn_acc: 0.971\tval_loss: 0.254\tval_acc: 0.921\t(413.75s - 103.44s remaining)\n",
      "IoU of validation set 0.674392286105355\n",
      "EPOCH: 17.000\ttrn_loss: 0.073\ttrn_acc: 0.973\tval_loss: 0.200\tval_acc: 0.934\t(439.87s - 77.62s remaining)\n",
      "IoU of validation set 0.6879901556555219\n",
      "EPOCH: 18.000\ttrn_loss: 0.073\ttrn_acc: 0.974\tval_loss: 0.218\tval_acc: 0.935\t(465.61s - 51.73s remaining)\n",
      "IoU of validation set 0.6997536252287766\n",
      "EPOCH: 19.000\ttrn_loss: 0.068\ttrn_acc: 0.975\tval_loss: 0.217\tval_acc: 0.930\t(491.30s - 25.86s remaining)\n",
      "IoU of validation set 0.6512310655197127\n",
      "EPOCH: 20.000\ttrn_loss: 0.062\ttrn_acc: 0.978\tval_loss: 0.224\tval_acc: 0.934\t(517.21s - 0.00s remaining)\n",
      "IoU of validation set 0.6990129540974374\n"
     ]
    }
   ],
   "source": [
    "# train decoder with backpropagation\n",
    "log = Report(n_epochs)\n",
    "log_val_loss = []\n",
    "log_val_iou  = []\n",
    "log_trn_loss = []\n",
    "log_trn_iou  = []\n",
    "for ex in range(n_epochs):\n",
    "    all_preds = None\n",
    "    all_true_labels = None\n",
    "    \n",
    "    model.decoder.train()\n",
    "    N = len(trn_dl)\n",
    "    tmp_loss = 0\n",
    "    tmp_iou  = 0\n",
    "    for bx, data in enumerate(trn_dl):\n",
    "        loss, acc, iou = train_batch(model, data, optimizer, criterion, device=device)\n",
    "        log.record(ex+(bx+1)/N, trn_loss=loss, trn_acc=acc, end='\\r')\n",
    "        tmp_loss += loss\n",
    "        tmp_iou  += iou\n",
    "        \n",
    "    log_trn_loss.append(tmp_loss/bx)\n",
    "    log_trn_iou.append(tmp_iou/iou)\n",
    "\n",
    "    model.decoder.eval()\n",
    "    N = len(val_dl)\n",
    "    tmp_loss = 0\n",
    "    tmp_iou  = 0\n",
    "    for bx, data in enumerate(val_dl):\n",
    "        loss, acc, preds, true_labels, iou = validate_batch(model, data, criterion, device=device)\n",
    "        log.record(ex+(bx+1)/N, val_loss=loss, val_acc=acc, end='\\r')\n",
    "\n",
    "        if all_preds is None:\n",
    "            all_preds = preds.detach().cpu().numpy().flatten()\n",
    "            all_true_labels = true_labels.detach().cpu().numpy().flatten()\n",
    "        else:\n",
    "            all_preds = np.concatenate((all_preds, preds.detach().cpu().numpy().flatten()))\n",
    "            all_true_labels = np.concatenate((all_true_labels, true_labels.detach().cpu().numpy().flatten()))\n",
    "        tmp_loss += loss\n",
    "        tmp_iou  += iou\n",
    "        \n",
    "    log.report_avgs(ex+1)\n",
    "    log_val_loss.append(tmp_loss/bx)\n",
    "    log_val_iou.append(tmp_iou/bx)\n",
    "\n",
    "    print(\"IoU of validation set\", IoU(all_true_labels, all_preds))"
   ]
  },
  {
   "cell_type": "code",
   "execution_count": 20,
   "metadata": {},
   "outputs": [
    {
     "data": {
      "text/plain": [
       "Text(0.5, 1.0, 'Validation Loss')"
      ]
     },
     "execution_count": 20,
     "metadata": {},
     "output_type": "execute_result"
    },
    {
     "data": {
      "image/png": "[encoded data removed]",
      "text/plain": [
       "<Figure size 864x288 with 2 Axes>"
      ]
     },
     "metadata": {
      "needs_background": "light"
     },
     "output_type": "display_data"
    }
   ],
   "source": [
    "fig, axs = plt.subplots(1,2, figsize=(12,4))\n",
    "axs[0].plot(log_trn_loss)\n",
    "axs[1].plot(log_val_loss)\n",
    "\n",
    "axs[0].set_xlabel(\"Epoch\")\n",
    "axs[1].set_xlabel(\"Epoch\")\n",
    "\n",
    "axs[0].set_ylabel('Loss')\n",
    "axs[1].set_ylabel('Loss')\n",
    "\n",
    "axs[0].set_title('Trainning Loss')\n",
    "axs[1].set_title('Validation Loss')"
   ]
  },
  {
   "cell_type": "code",
   "execution_count": 23,
   "metadata": {},
   "outputs": [
    {
     "data": {
      "text/plain": [
       "Text(0.5, 1.0, 'Validation IoU')"
      ]
     },
     "execution_count": 23,
     "metadata": {},
     "output_type": "execute_result"
    },
    {
     "data": {
      "image/png": "[encoded data removed]",
      "text/plain": [
       "<Figure size 864x288 with 2 Axes>"
      ]
     },
     "metadata": {
      "needs_background": "light"
     },
     "output_type": "display_data"
    }
   ],
   "source": [
    "fig, axs = plt.subplots(1,2, figsize=(12,4))\n",
    "axs[0].plot(log_trn_iou)\n",
    "axs[1].plot(log_val_iou)\n",
    "\n",
    "axs[0].set_xlabel(\"Epoch\")\n",
    "axs[1].set_xlabel(\"Epoch\")\n",
    "\n",
    "axs[0].set_ylabel('IoU')\n",
    "axs[1].set_ylabel('IoU')\n",
    "\n",
    "axs[0].set_title('Trainning IoU')\n",
    "axs[1].set_title('Validation IoU')"
   ]
  },
  {
   "cell_type": "markdown",
   "metadata": {},
   "source": [
    "#### Examples"
   ]
  },
  {
   "cell_type": "code",
   "execution_count": null,
   "metadata": {},
   "outputs": [],
   "source": [
    "im, mask = next(iter(val_dl))\n",
    "im , mask = im.to(device), mask.to(device)\n",
    "_mask = model(im)\n",
    "\n",
    "\n",
    "_, _mask = torch.max(_mask, dim=1)\n",
    "\n",
    "\n",
    "subplots([im[0].permute(1,2,0).detach().cpu()[:,:,0], mask.permute(1,2,0).detach().cpu()[:,:,0]\n",
    ",_mask.permute(1,2,0).detach().cpu()[:,:,0]],\n",
    "nc=3, titles=['Original image','Original mask','Predicted mask'])"
   ]
  }
 ],
 "metadata": {
  "interpreter": {
   "hash": "d56923169773f93e593b03c3dcee9f5b1a8d57471a265acfdbc0de17c63918a7"
  },
  "kernelspec": {
   "display_name": "Python 3",
   "language": "python",
   "name": "python3"
  },
  "language_info": {
   "codemirror_mode": {
    "name": "ipython",
    "version": 3
   },
   "file_extension": ".py",
   "mimetype": "text/x-python",
   "name": "python",
   "nbconvert_exporter": "python",
   "pygments_lexer": "ipython3",
   "version": "3.8.10"
  }
 },
 "nbformat": 4,
 "nbformat_minor": 2
}
